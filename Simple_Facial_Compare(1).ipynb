{
 "cells": [
  {
   "cell_type": "markdown",
   "metadata": {},
   "source": [
    "# A Simple Face Comparison Code with [AWS Rekognition](https://boto3.amazonaws.com/v1/documentation/api/latest/reference/services/rekognition.html#Rekognition.Client.compare_faces)"
   ]
  },
  {
   "cell_type": "markdown",
   "metadata": {},
   "source": [
    "## Import Libraries"
   ]
  },
  {
   "cell_type": "code",
   "execution_count": 1,
   "metadata": {},
   "outputs": [],
   "source": [
    "import boto3\n",
    "from pprint import pprint\n",
    "\n",
    "client = boto3.client('rekognition')"
   ]
  },
  {
   "cell_type": "markdown",
   "metadata": {},
   "source": [
    "## Target Image"
   ]
  },
  {
   "cell_type": "markdown",
   "metadata": {},
   "source": [
    "![Target Image](https://raw.githubusercontent.com/xbwei/data-analysis-aws/master/target.jpg)"
   ]
  },
  {
   "cell_type": "markdown",
   "metadata": {},
   "source": [
    "## Source Image"
   ]
  },
  {
   "cell_type": "markdown",
   "metadata": {},
   "source": [
    "![Source Image](https://raw.githubusercontent.com/xbwei/data-analysis-aws/master/source.jfif)"
   ]
  },
  {
   "cell_type": "markdown",
   "metadata": {},
   "source": [
    "## Result"
   ]
  },
  {
   "cell_type": "code",
   "execution_count": 2,
   "metadata": {},
   "outputs": [
    {
     "name": "stdout",
     "output_type": "stream",
     "text": [
      "{'FaceMatches': [{'Face': {'BoundingBox': {'Height': 0.6469594240188599,\n",
      "                                           'Left': 0.20307426154613495,\n",
      "                                           'Top': 0.21134895086288452,\n",
      "                                           'Width': 0.5290862917900085},\n",
      "                           'Confidence': 99.9998779296875,\n",
      "                           'Landmarks': [{'Type': 'eyeLeft',\n",
      "                                          'X': 0.3082178831100464,\n",
      "                                          'Y': 0.44201967120170593},\n",
      "                                         {'Type': 'eyeRight',\n",
      "                                          'X': 0.532570481300354,\n",
      "                                          'Y': 0.44374582171440125},\n",
      "                                         {'Type': 'mouthLeft',\n",
      "                                          'X': 0.32041028141975403,\n",
      "                                          'Y': 0.6677994728088379},\n",
      "                                         {'Type': 'mouthRight',\n",
      "                                          'X': 0.5030556917190552,\n",
      "                                          'Y': 0.6700032353401184},\n",
      "                                         {'Type': 'nose',\n",
      "                                          'X': 0.3703022599220276,\n",
      "                                          'Y': 0.551486074924469}],\n",
      "                           'Pose': {'Pitch': -1.7364996671676636,\n",
      "                                    'Roll': -2.0989387035369873,\n",
      "                                    'Yaw': -40.51795959472656},\n",
      "                           'Quality': {'Brightness': 71.77912902832031,\n",
      "                                       'Sharpness': 96.61495208740234}},\n",
      "                  'Similarity': 93.89599609375}],\n",
      " 'ResponseMetadata': {'HTTPHeaders': {'connection': 'keep-alive',\n",
      "                                      'content-length': '898',\n",
      "                                      'content-type': 'application/x-amz-json-1.1',\n",
      "                                      'date': 'Fri, 10 Apr 2020 15:54:58 GMT',\n",
      "                                      'x-amzn-requestid': '59c3cdd1-c2dd-46e9-853a-e824997d5ab8'},\n",
      "                      'HTTPStatusCode': 200,\n",
      "                      'RequestId': '59c3cdd1-c2dd-46e9-853a-e824997d5ab8',\n",
      "                      'RetryAttempts': 0},\n",
      " 'SourceImageFace': {'BoundingBox': {'Height': 0.2655993402004242,\n",
      "                                     'Left': 0.44867628812789917,\n",
      "                                     'Top': 0.1579916924238205,\n",
      "                                     'Width': 0.24440911412239075},\n",
      "                     'Confidence': 100.0},\n",
      " 'UnmatchedFaces': []}\n"
     ]
    }
   ],
   "source": [
    "response = client.compare_faces(\n",
    "    SimilarityThreshold=90,\n",
    "    SourceImage={\n",
    "        'S3Object': {\n",
    "            'Bucket': 'wei-ia241',\n",
    "            'Name': 'source.jfif',\n",
    "        },\n",
    "    },\n",
    "    TargetImage={\n",
    "        'S3Object': {\n",
    "            'Bucket': 'wei-ia241',\n",
    "            'Name': 'target.jpg',\n",
    "        },\n",
    "    },\n",
    ")\n",
    "\n",
    "\n",
    "pprint(response)"
   ]
  },
  {
   "cell_type": "code",
   "execution_count": null,
   "metadata": {},
   "outputs": [],
   "source": []
  }
 ],
 "metadata": {
  "kernelspec": {
   "display_name": "conda_mxnet_p36",
   "language": "python",
   "name": "conda_mxnet_p36"
  },
  "language_info": {
   "codemirror_mode": {
    "name": "ipython",
    "version": 3
   },
   "file_extension": ".py",
   "mimetype": "text/x-python",
   "name": "python",
   "nbconvert_exporter": "python",
   "pygments_lexer": "ipython3",
   "version": "3.6.5"
  }
 },
 "nbformat": 4,
 "nbformat_minor": 4
}
